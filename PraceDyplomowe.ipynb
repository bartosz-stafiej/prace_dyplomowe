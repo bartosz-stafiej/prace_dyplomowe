{
    "metadata": {
        "kernelspec": {
            "name": "SQL",
            "display_name": "SQL",
            "language": "sql"
        },
        "language_info": {
            "name": "sql",
            "version": ""
        }
    },
    "nbformat_minor": 2,
    "nbformat": 4,
    "cells": [
        {
            "cell_type": "code",
            "source": [
                "USE [master]\n",
                "GO\n",
                "\n",
                "CREATE DATABASE [PraceDyplomowe]\n",
                " CONTAINMENT = NONE\n",
                " ON  PRIMARY \n",
                "( NAME = N'PraceDyplomowe', FILENAME = N'C:\\Program Files\\Microsoft SQL Server\\MSSQL15.MSSQLSERVER\\MSSQL\\DATA\\PraceDyplomowe.mdf' , SIZE = 8192KB , MAXSIZE = UNLIMITED, FILEGROWTH = 65536KB )\n",
                " LOG ON \n",
                "( NAME = N'PraceDyplomowe_log', FILENAME = N'C:\\Program Files\\Microsoft SQL Server\\MSSQL15.MSSQLSERVER\\MSSQL\\DATA\\PraceDyplomowe_log.ldf' , SIZE = 8192KB , MAXSIZE = 2048GB , FILEGROWTH = 65536KB )\n",
                " WITH CATALOG_COLLATION = DATABASE_DEFAULT\n",
                "GO"
            ],
            "metadata": {
                "azdata_cell_guid": "d33a6d29-802e-4152-bd78-89bd1768750d",
                "tags": []
            },
            "outputs": [
                {
                    "output_type": "display_data",
                    "data": {
                        "text/html": "Commands completed successfully."
                    },
                    "metadata": {}
                },
                {
                    "output_type": "display_data",
                    "data": {
                        "text/html": "Commands completed successfully."
                    },
                    "metadata": {}
                },
                {
                    "output_type": "display_data",
                    "data": {
                        "text/html": "Total execution time: 00:00:00.698"
                    },
                    "metadata": {}
                }
            ],
            "execution_count": 567
        },
        {
            "cell_type": "code",
            "source": [
                "USE [PraceDyplomowe]\n",
                "GO"
            ],
            "metadata": {
                "azdata_cell_guid": "43d3151d-f27a-46f5-ba76-93fac7f981d3"
            },
            "outputs": [
                {
                    "output_type": "display_data",
                    "data": {
                        "text/html": "Commands completed successfully."
                    },
                    "metadata": {}
                },
                {
                    "output_type": "display_data",
                    "data": {
                        "text/html": "Total execution time: 00:00:00.021"
                    },
                    "metadata": {}
                }
            ],
            "execution_count": 568
        },
        {
            "cell_type": "code",
            "source": [
                "ALTER DATABASE [PraceDyplomowe] SET COMPATIBILITY_LEVEL = 140\n",
                "GO\n",
                "IF (1 = FULLTEXTSERVICEPROPERTY('IsFullTextInstalled'))\n",
                "begin\n",
                "EXEC [PraceDyplomowe].[dbo].[sp_fulltext_database] @action = 'enable'\n",
                "end\n",
                "GO\n",
                "ALTER DATABASE [PraceDyplomowe] SET ANSI_NULL_DEFAULT OFF \n",
                "GO\n",
                "ALTER DATABASE [PraceDyplomowe] SET ANSI_NULLS OFF \n",
                "GO\n",
                "ALTER DATABASE [PraceDyplomowe] SET ANSI_PADDING OFF \n",
                "GO\n",
                "ALTER DATABASE [PraceDyplomowe] SET ANSI_WARNINGS OFF \n",
                "GO\n",
                "ALTER DATABASE [PraceDyplomowe] SET ARITHABORT OFF \n",
                "GO\n",
                "ALTER DATABASE [PraceDyplomowe] SET AUTO_CLOSE OFF \n",
                "GO\n",
                "ALTER DATABASE [PraceDyplomowe] SET AUTO_SHRINK OFF \n",
                "GO\n",
                "ALTER DATABASE [PraceDyplomowe] SET AUTO_UPDATE_STATISTICS ON \n",
                "GO\n",
                "ALTER DATABASE [PraceDyplomowe] SET CURSOR_CLOSE_ON_COMMIT OFF \n",
                "GO\n",
                "ALTER DATABASE [PraceDyplomowe] SET CURSOR_DEFAULT  GLOBAL \n",
                "GO\n",
                "ALTER DATABASE [PraceDyplomowe] SET CONCAT_NULL_YIELDS_NULL OFF \n",
                "GO\n",
                "ALTER DATABASE [PraceDyplomowe] SET NUMERIC_ROUNDABORT OFF \n",
                "GO\n",
                "ALTER DATABASE [PraceDyplomowe] SET QUOTED_IDENTIFIER OFF \n",
                "GO\n",
                "ALTER DATABASE [PraceDyplomowe] SET RECURSIVE_TRIGGERS OFF \n",
                "GO\n",
                "ALTER DATABASE [PraceDyplomowe] SET  DISABLE_BROKER \n",
                "GO\n",
                "ALTER DATABASE [PraceDyplomowe] SET AUTO_UPDATE_STATISTICS_ASYNC OFF \n",
                "GO\n",
                "ALTER DATABASE [PraceDyplomowe] SET DATE_CORRELATION_OPTIMIZATION OFF \n",
                "GO\n",
                "ALTER DATABASE [PraceDyplomowe] SET TRUSTWORTHY OFF \n",
                "GO\n",
                "ALTER DATABASE [PraceDyplomowe] SET ALLOW_SNAPSHOT_ISOLATION OFF \n",
                "GO\n",
                "ALTER DATABASE [PraceDyplomowe] SET PARAMETERIZATION SIMPLE \n",
                "GO\n",
                "ALTER DATABASE [PraceDyplomowe] SET READ_COMMITTED_SNAPSHOT OFF \n",
                "GO\n",
                "ALTER DATABASE [PraceDyplomowe] SET HONOR_BROKER_PRIORITY OFF \n",
                "GO\n",
                "ALTER DATABASE [PraceDyplomowe] SET RECOVERY SIMPLE \n",
                "GO\n",
                "ALTER DATABASE [PraceDyplomowe] SET  MULTI_USER \n",
                "GO\n",
                "ALTER DATABASE [PraceDyplomowe] SET PAGE_VERIFY CHECKSUM  \n",
                "GO\n",
                "ALTER DATABASE [PraceDyplomowe] SET DB_CHAINING OFF \n",
                "GO\n",
                "ALTER DATABASE [PraceDyplomowe] SET FILESTREAM( NON_TRANSACTED_ACCESS = OFF ) \n",
                "GO\n",
                "ALTER DATABASE [PraceDyplomowe] SET TARGET_RECOVERY_TIME = 60 SECONDS \n",
                "GO\n",
                "ALTER DATABASE [PraceDyplomowe] SET DELAYED_DURABILITY = DISABLED \n",
                "GO\n",
                "EXEC sys.sp_db_vardecimal_storage_format N'PraceDyplomowe', N'ON'\n",
                "GO\n",
                "ALTER DATABASE [PraceDyplomowe] SET QUERY_STORE = OFF\n",
                "GO"
            ],
            "metadata": {
                "azdata_cell_guid": "0f1e0864-37bd-48f6-8790-e80e5d9ae960"
            },
            "outputs": [
                {
                    "output_type": "display_data",
                    "data": {
                        "text/html": "Commands completed successfully."
                    },
                    "metadata": {}
                },
                {
                    "output_type": "display_data",
                    "data": {
                        "text/html": "Commands completed successfully."
                    },
                    "metadata": {}
                },
                {
                    "output_type": "display_data",
                    "data": {
                        "text/html": "Commands completed successfully."
                    },
                    "metadata": {}
                },
                {
                    "output_type": "display_data",
                    "data": {
                        "text/html": "Commands completed successfully."
                    },
                    "metadata": {}
                },
                {
                    "output_type": "display_data",
                    "data": {
                        "text/html": "Commands completed successfully."
                    },
                    "metadata": {}
                },
                {
                    "output_type": "display_data",
                    "data": {
                        "text/html": "Commands completed successfully."
                    },
                    "metadata": {}
                },
                {
                    "output_type": "display_data",
                    "data": {
                        "text/html": "Commands completed successfully."
                    },
                    "metadata": {}
                },
                {
                    "output_type": "display_data",
                    "data": {
                        "text/html": "Commands completed successfully."
                    },
                    "metadata": {}
                },
                {
                    "output_type": "display_data",
                    "data": {
                        "text/html": "Commands completed successfully."
                    },
                    "metadata": {}
                },
                {
                    "output_type": "display_data",
                    "data": {
                        "text/html": "Commands completed successfully."
                    },
                    "metadata": {}
                },
                {
                    "output_type": "display_data",
                    "data": {
                        "text/html": "Commands completed successfully."
                    },
                    "metadata": {}
                },
                {
                    "output_type": "display_data",
                    "data": {
                        "text/html": "Commands completed successfully."
                    },
                    "metadata": {}
                },
                {
                    "output_type": "display_data",
                    "data": {
                        "text/html": "Commands completed successfully."
                    },
                    "metadata": {}
                },
                {
                    "output_type": "display_data",
                    "data": {
                        "text/html": "Commands completed successfully."
                    },
                    "metadata": {}
                },
                {
                    "output_type": "display_data",
                    "data": {
                        "text/html": "Commands completed successfully."
                    },
                    "metadata": {}
                },
                {
                    "output_type": "display_data",
                    "data": {
                        "text/html": "Commands completed successfully."
                    },
                    "metadata": {}
                },
                {
                    "output_type": "display_data",
                    "data": {
                        "text/html": "Commands completed successfully."
                    },
                    "metadata": {}
                },
                {
                    "output_type": "display_data",
                    "data": {
                        "text/html": "Commands completed successfully."
                    },
                    "metadata": {}
                },
                {
                    "output_type": "display_data",
                    "data": {
                        "text/html": "Commands completed successfully."
                    },
                    "metadata": {}
                },
                {
                    "output_type": "display_data",
                    "data": {
                        "text/html": "Commands completed successfully."
                    },
                    "metadata": {}
                },
                {
                    "output_type": "display_data",
                    "data": {
                        "text/html": "Commands completed successfully."
                    },
                    "metadata": {}
                },
                {
                    "output_type": "display_data",
                    "data": {
                        "text/html": "Commands completed successfully."
                    },
                    "metadata": {}
                },
                {
                    "output_type": "display_data",
                    "data": {
                        "text/html": "Commands completed successfully."
                    },
                    "metadata": {}
                },
                {
                    "output_type": "display_data",
                    "data": {
                        "text/html": "Commands completed successfully."
                    },
                    "metadata": {}
                },
                {
                    "output_type": "display_data",
                    "data": {
                        "text/html": "Commands completed successfully."
                    },
                    "metadata": {}
                },
                {
                    "output_type": "display_data",
                    "data": {
                        "text/html": "Commands completed successfully."
                    },
                    "metadata": {}
                },
                {
                    "output_type": "display_data",
                    "data": {
                        "text/html": "Commands completed successfully."
                    },
                    "metadata": {}
                },
                {
                    "output_type": "display_data",
                    "data": {
                        "text/html": "Commands completed successfully."
                    },
                    "metadata": {}
                },
                {
                    "output_type": "display_data",
                    "data": {
                        "text/html": "Commands completed successfully."
                    },
                    "metadata": {}
                },
                {
                    "output_type": "display_data",
                    "data": {
                        "text/html": "Commands completed successfully."
                    },
                    "metadata": {}
                },
                {
                    "output_type": "display_data",
                    "data": {
                        "text/html": "Commands completed successfully."
                    },
                    "metadata": {}
                },
                {
                    "output_type": "display_data",
                    "data": {
                        "text/html": "Commands completed successfully."
                    },
                    "metadata": {}
                },
                {
                    "output_type": "display_data",
                    "data": {
                        "text/html": "Commands completed successfully."
                    },
                    "metadata": {}
                },
                {
                    "output_type": "display_data",
                    "data": {
                        "text/html": "Total execution time: 00:00:00.266"
                    },
                    "metadata": {}
                }
            ],
            "execution_count": 569
        },
        {
            "cell_type": "code",
            "source": [
                "USE [PraceDyplomowe]\n",
                "GO\n",
                "\n",
                "SET ANSI_NULLS ON\n",
                "GO\n",
                "SET QUOTED_IDENTIFIER ON\n",
                "GO\n",
                "CREATE TABLE [dbo].[Studia](\n",
                "\t[ID_Studia] [int] IDENTITY(1,1) NOT NULL,\n",
                "    [Kierunek] [varchar](100) NOT NULL,\n",
                "\t[Wydzial] [varchar](100) NOT NULL,\n",
                " CONSTRAINT [PK_Studia] PRIMARY KEY CLUSTERED \n",
                "(\n",
                "\t[ID_Studia] ASC\n",
                ")WITH (PAD_INDEX = OFF, STATISTICS_NORECOMPUTE = OFF, IGNORE_DUP_KEY = OFF, ALLOW_ROW_LOCKS = ON, ALLOW_PAGE_LOCKS = ON, OPTIMIZE_FOR_SEQUENTIAL_KEY = OFF) ON [PRIMARY]\n",
                ") ON [PRIMARY]\n",
                "GO\n",
                "\n",
                "\n",
                "\n",
                "SET ANSI_NULLS ON\n",
                "GO\n",
                "SET QUOTED_IDENTIFIER ON\n",
                "GO\n",
                "CREATE TABLE [dbo].[Student](\n",
                "\t[ID_Student] [bigint] NOT NULL,\n",
                "\t[ID_Studia] [int] NOT NULL,\n",
                "    [Email] [varchar](50) NULL,\n",
                "    [Telefon] [int] NULL,\n",
                "\t[Imie] [varchar](100) NOT NULL,\n",
                "\t[Nazwisko] [varchar](100) NOT NULL,\n",
                " CONSTRAINT [PK_Student] PRIMARY KEY CLUSTERED \n",
                "(\n",
                "\t[ID_Student] ASC\n",
                ")WITH (PAD_INDEX = OFF, STATISTICS_NORECOMPUTE = OFF, IGNORE_DUP_KEY = OFF, ALLOW_ROW_LOCKS = ON, ALLOW_PAGE_LOCKS = ON, OPTIMIZE_FOR_SEQUENTIAL_KEY = OFF) ON [PRIMARY]\n",
                ") ON [PRIMARY]\n",
                "GO\n",
                "\n",
                "\n",
                "\n",
                "SET ANSI_NULLS ON\n",
                "GO\n",
                "SET QUOTED_IDENTIFIER ON\n",
                "GO\n",
                "CREATE TABLE [dbo].[EtapStudiow](\n",
                "\t[ID_Etap] [int] IDENTITY(1,1) NOT NULL,\n",
                "\t[EtapStudiow] [varchar](50) NOT NULL,\n",
                " CONSTRAINT [PK_EtapStudiow] PRIMARY KEY CLUSTERED \n",
                "(\n",
                "\t[ID_Etap] ASC\n",
                ")WITH (PAD_INDEX = OFF, STATISTICS_NORECOMPUTE = OFF, IGNORE_DUP_KEY = OFF, ALLOW_ROW_LOCKS = ON, ALLOW_PAGE_LOCKS = ON, OPTIMIZE_FOR_SEQUENTIAL_KEY = OFF) ON [PRIMARY]\n",
                ") ON [PRIMARY]\n",
                "GO\n",
                "\n",
                "SET ANSI_NULLS ON\n",
                "GO\n",
                "SET QUOTED_IDENTIFIER ON\n",
                "GO\n",
                "CREATE TABLE [dbo].[PracownikNaukowy](\n",
                "\t[ID_PracownikNaukowy] [int] NOT NULL,\n",
                "\t[StopienNaukowy] [varchar](50) NULL,\n",
                "\t[Imie] [varchar](100) NOT NULL,\n",
                "\t[Nazwisko] [varchar](100) NOT NULL,\n",
                "\t[Email] [varchar](100) NULL,\n",
                " CONSTRAINT [PK_Pracownik] PRIMARY KEY CLUSTERED \n",
                "(\n",
                "\t[ID_PracownikNaukowy] ASC\n",
                ")WITH (PAD_INDEX = OFF, STATISTICS_NORECOMPUTE = OFF, IGNORE_DUP_KEY = OFF, ALLOW_ROW_LOCKS = ON, ALLOW_PAGE_LOCKS = ON, OPTIMIZE_FOR_SEQUENTIAL_KEY = OFF) ON [PRIMARY]\n",
                ") ON [PRIMARY] \n",
                "GO\n",
                "\n",
                "\n",
                "\n",
                "\n",
                "SET ANSI_NULLS ON\n",
                "GO\n",
                "SET QUOTED_IDENTIFIER ON\n",
                "GO\n",
                "CREATE TABLE [dbo].[PracaDyplomowa](\n",
                "\t[ID_Praca] [int] NOT NULL,\n",
                "\t[ID_EtapStudiow] [int] NOT NULL,\n",
                "\t[ID_Opiekun] [int] NULL,\n",
                "    [Tytul] [varchar](100) NOT NULL,\n",
                "    [Temat] [varchar](100) NOT NULL,\n",
                "\t[DataZlozenia] [datetime] NULL,\n",
                " CONSTRAINT [PK_PracaDyplomowa] PRIMARY KEY CLUSTERED \n",
                "(\n",
                "\t[ID_Praca] ASC\n",
                ")WITH (PAD_INDEX = OFF, STATISTICS_NORECOMPUTE = OFF, IGNORE_DUP_KEY = OFF, ALLOW_ROW_LOCKS = ON, ALLOW_PAGE_LOCKS = ON, OPTIMIZE_FOR_SEQUENTIAL_KEY = OFF) ON [PRIMARY]\n",
                ") ON [PRIMARY]\n",
                "GO\n",
                "\n",
                "\n",
                "\n",
                "\n",
                "SET ANSI_NULLS ON\n",
                "GO\n",
                "SET QUOTED_IDENTIFIER ON\n",
                "GO\n",
                "CREATE TABLE [dbo].[Obrona](\n",
                "\t[ID_Obrona] [int] NOT NULL,\n",
                "    [ID_Praca] [int] NOT NULL,\n",
                "    [ID_Przewodniczacy] [int] NOT NULL,\n",
                "\t[ID_Autor] [bigint] NOT NULL,\n",
                "    [Data] [datetime] NULL,\n",
                "\t[OcenaKoncowa] [smallint] NULL,\n",
                "\t[Lokalizacja] [varchar](100) NULL,\n",
                " CONSTRAINT [PK_Obrona] PRIMARY KEY CLUSTERED \n",
                "(\n",
                "\t[ID_Obrona] ASC\n",
                ")WITH (PAD_INDEX = OFF, STATISTICS_NORECOMPUTE = OFF, IGNORE_DUP_KEY = OFF, ALLOW_ROW_LOCKS = ON, ALLOW_PAGE_LOCKS = ON, OPTIMIZE_FOR_SEQUENTIAL_KEY = OFF) ON [PRIMARY]\n",
                ") ON [PRIMARY]\n",
                "GO\n",
                "\n",
                "\n",
                "\n",
                "SET ANSI_NULLS ON\n",
                "GO\n",
                "SET QUOTED_IDENTIFIER ON\n",
                "GO\n",
                "CREATE TABLE [dbo].[Recenzja](\n",
                "\t[ID_Recenzja] [int] NOT NULL,\n",
                "\t[ID_Praca] [int] NOT NULL,\n",
                "\t[ID_Oceniajacy] [int] NOT NULL,\n",
                "\t[Ocena] [smallint] NULL,\n",
                "\t[Komentarz] [varchar](max) NULL,\n",
                "    [DataWystawienia] [date] NULL,\n",
                " CONSTRAINT [PK_Recenzja] PRIMARY KEY CLUSTERED \n",
                "(\n",
                "\t[ID_Recenzja] ASC\n",
                ")WITH (PAD_INDEX = OFF, STATISTICS_NORECOMPUTE = OFF, IGNORE_DUP_KEY = OFF, ALLOW_ROW_LOCKS = ON, ALLOW_PAGE_LOCKS = ON, OPTIMIZE_FOR_SEQUENTIAL_KEY = OFF) ON [PRIMARY]\n",
                ") ON [PRIMARY] TEXTIMAGE_ON [PRIMARY]\n",
                "GO\n",
                "\n",
                "\n",
                "SET ANSI_NULLS ON\n",
                "GO\n",
                "SET QUOTED_IDENTIFIER ON\n",
                "GO\n",
                "CREATE TABLE [dbo].[SlowaKluczowe](\n",
                "\t[ID_SlowoKluczowe] [int] IDENTITY(1,1) NOT NULL,\n",
                "\t[SlowoKluczowe] [varchar](50) NOT NULL,\n",
                "\t[ID_Praca] [int] NOT NULL,\n",
                " CONSTRAINT [PK_SlowaKluczowe] PRIMARY KEY CLUSTERED \n",
                "(\n",
                "\t[ID_SlowoKluczowe] ASC\n",
                ")WITH (PAD_INDEX = OFF, STATISTICS_NORECOMPUTE = OFF, IGNORE_DUP_KEY = OFF, ALLOW_ROW_LOCKS = ON, ALLOW_PAGE_LOCKS = ON, OPTIMIZE_FOR_SEQUENTIAL_KEY = OFF) ON [PRIMARY]\n",
                ") ON [PRIMARY]\n",
                "GO\n",
                "\n",
                "\n",
                "SET ANSI_NULLS ON\n",
                "GO\n",
                "SET QUOTED_IDENTIFIER ON\n",
                "GO\n",
                "CREATE FUNCTION [dbo].[CzyJestPromotorem] (@idpracownik int)\n",
                "RETURNS VARCHAR(3) AS\n",
                "BEGIN\n",
                "\tDECLARE @output VARCHAR(3)\n",
                "\t\t\n",
                "\t\tIF EXISTS (SELECT PracaDyplomowa.ID_Opiekun FROM PracaDyplomowa WHERE PracaDyplomowa.ID_Opiekun = @idpracownik)\n",
                "\t\t\tSET @output = 'Tak'\n",
                "\t\tELSE\n",
                "\t\t\tSET @output = 'Nie'\n",
                "\n",
                "\tRETURN @output\n",
                "END\n",
                "GO\n",
                "\n",
                "\n",
                "SET ANSI_NULLS ON\n",
                "GO\n",
                "SET QUOTED_IDENTIFIER ON\n",
                "GO\n",
                "CREATE FUNCTION [dbo].[IleSudentow] (@idpracadyplomowa int)\n",
                "RETURNS VARCHAR(3) AS\n",
                "BEGIN\n",
                "\tDECLARE @output VARCHAR(3)\n",
                "\tDECLARE @liczbastudentow int\n",
                "\n",
                "\t\tSELECT @liczbastudentow = COUNT(ID_Autor)\n",
                "\t\tFROM Obrona\n",
                "\t\tWHERE ID_Praca = @idpracadyplomowa\n",
                "\n",
                "\t\tIF @liczbastudentow <=3\n",
                "\t\t\tSET @output = @liczbastudentow\n",
                "\t\tELSE\n",
                "\t\t\tSET @output = 'MAX'\n",
                "\n",
                "\tRETURN @output\n",
                "END\n",
                "GO\n",
                ""
            ],
            "metadata": {
                "azdata_cell_guid": "54ec1e1e-85c6-4c5a-b02f-105f096d9bfa"
            },
            "outputs": [
                {
                    "output_type": "display_data",
                    "data": {
                        "text/html": "Commands completed successfully."
                    },
                    "metadata": {}
                },
                {
                    "output_type": "display_data",
                    "data": {
                        "text/html": "Commands completed successfully."
                    },
                    "metadata": {}
                },
                {
                    "output_type": "display_data",
                    "data": {
                        "text/html": "Commands completed successfully."
                    },
                    "metadata": {}
                },
                {
                    "output_type": "display_data",
                    "data": {
                        "text/html": "Commands completed successfully."
                    },
                    "metadata": {}
                },
                {
                    "output_type": "display_data",
                    "data": {
                        "text/html": "Commands completed successfully."
                    },
                    "metadata": {}
                },
                {
                    "output_type": "display_data",
                    "data": {
                        "text/html": "Commands completed successfully."
                    },
                    "metadata": {}
                },
                {
                    "output_type": "display_data",
                    "data": {
                        "text/html": "Commands completed successfully."
                    },
                    "metadata": {}
                },
                {
                    "output_type": "display_data",
                    "data": {
                        "text/html": "Commands completed successfully."
                    },
                    "metadata": {}
                },
                {
                    "output_type": "display_data",
                    "data": {
                        "text/html": "Commands completed successfully."
                    },
                    "metadata": {}
                },
                {
                    "output_type": "display_data",
                    "data": {
                        "text/html": "Commands completed successfully."
                    },
                    "metadata": {}
                },
                {
                    "output_type": "display_data",
                    "data": {
                        "text/html": "Commands completed successfully."
                    },
                    "metadata": {}
                },
                {
                    "output_type": "display_data",
                    "data": {
                        "text/html": "Commands completed successfully."
                    },
                    "metadata": {}
                },
                {
                    "output_type": "display_data",
                    "data": {
                        "text/html": "Commands completed successfully."
                    },
                    "metadata": {}
                },
                {
                    "output_type": "display_data",
                    "data": {
                        "text/html": "Commands completed successfully."
                    },
                    "metadata": {}
                },
                {
                    "output_type": "display_data",
                    "data": {
                        "text/html": "Commands completed successfully."
                    },
                    "metadata": {}
                },
                {
                    "output_type": "display_data",
                    "data": {
                        "text/html": "Commands completed successfully."
                    },
                    "metadata": {}
                },
                {
                    "output_type": "display_data",
                    "data": {
                        "text/html": "Commands completed successfully."
                    },
                    "metadata": {}
                },
                {
                    "output_type": "display_data",
                    "data": {
                        "text/html": "Commands completed successfully."
                    },
                    "metadata": {}
                },
                {
                    "output_type": "display_data",
                    "data": {
                        "text/html": "Commands completed successfully."
                    },
                    "metadata": {}
                },
                {
                    "output_type": "display_data",
                    "data": {
                        "text/html": "Commands completed successfully."
                    },
                    "metadata": {}
                },
                {
                    "output_type": "display_data",
                    "data": {
                        "text/html": "Commands completed successfully."
                    },
                    "metadata": {}
                },
                {
                    "output_type": "display_data",
                    "data": {
                        "text/html": "Commands completed successfully."
                    },
                    "metadata": {}
                },
                {
                    "output_type": "display_data",
                    "data": {
                        "text/html": "Commands completed successfully."
                    },
                    "metadata": {}
                },
                {
                    "output_type": "display_data",
                    "data": {
                        "text/html": "Commands completed successfully."
                    },
                    "metadata": {}
                },
                {
                    "output_type": "display_data",
                    "data": {
                        "text/html": "Commands completed successfully."
                    },
                    "metadata": {}
                },
                {
                    "output_type": "display_data",
                    "data": {
                        "text/html": "Commands completed successfully."
                    },
                    "metadata": {}
                },
                {
                    "output_type": "display_data",
                    "data": {
                        "text/html": "Commands completed successfully."
                    },
                    "metadata": {}
                },
                {
                    "output_type": "display_data",
                    "data": {
                        "text/html": "Commands completed successfully."
                    },
                    "metadata": {}
                },
                {
                    "output_type": "display_data",
                    "data": {
                        "text/html": "Commands completed successfully."
                    },
                    "metadata": {}
                },
                {
                    "output_type": "display_data",
                    "data": {
                        "text/html": "Commands completed successfully."
                    },
                    "metadata": {}
                },
                {
                    "output_type": "display_data",
                    "data": {
                        "text/html": "Commands completed successfully."
                    },
                    "metadata": {}
                },
                {
                    "output_type": "display_data",
                    "data": {
                        "text/html": "Total execution time: 00:00:00.282"
                    },
                    "metadata": {}
                }
            ],
            "execution_count": 570
        },
        {
            "cell_type": "code",
            "source": [
                "USE [PraceDyplomowe]\n",
                "GO\n",
                "ALTER TABLE [dbo].[Obrona]  WITH CHECK ADD  CONSTRAINT [FK_Obrona_PracaDyplomowa] FOREIGN KEY([ID_Praca])\n",
                "REFERENCES [dbo].[PracaDyplomowa] ([ID_Praca])\n",
                "GO\n",
                "ALTER TABLE [dbo].[Obrona] CHECK CONSTRAINT [FK_Obrona_PracaDyplomowa]\n",
                "GO\n",
                "ALTER TABLE [dbo].[Obrona]  WITH CHECK ADD  CONSTRAINT [FK_Obrona_Pracownik] FOREIGN KEY([ID_Przewodniczacy])\n",
                "REFERENCES [dbo].[PracownikNaukowy] ([ID_PracownikNaukowy])\n",
                "GO\n",
                "ALTER TABLE [dbo].[Obrona] CHECK CONSTRAINT [FK_Obrona_Pracownik]\n",
                "GO\n",
                "ALTER TABLE [dbo].[Obrona]  WITH CHECK ADD  CONSTRAINT [FK_Obrona_Student] FOREIGN KEY([ID_Autor])\n",
                "REFERENCES [dbo].[Student] ([ID_Student])\n",
                "GO\n",
                "ALTER TABLE [dbo].[Obrona] CHECK CONSTRAINT [FK_Obrona_Student]\n",
                "GO\n",
                "ALTER TABLE [dbo].[PracaDyplomowa]  WITH CHECK ADD  CONSTRAINT [FK_PracaDyplomowa_Pracownik] FOREIGN KEY([ID_Opiekun])\n",
                "REFERENCES [dbo].[PracownikNaukowy] ([ID_PracownikNaukowy])\n",
                "GO\n",
                "ALTER TABLE [dbo].[PracaDyplomowa] CHECK CONSTRAINT [FK_PracaDyplomowa_Pracownik]\n",
                "GO\n",
                "ALTER TABLE [dbo].[PracaDyplomowa]  WITH CHECK ADD  CONSTRAINT [FK_PracaDyplomowa_EtapStudiow] FOREIGN KEY([ID_EtapStudiow])\n",
                "REFERENCES [dbo].[EtapStudiow] ([ID_Etap])\n",
                "GO\n",
                "ALTER TABLE [dbo].[PracaDyplomowa] CHECK CONSTRAINT [FK_PracaDyplomowa_EtapStudiow]\n",
                "GO\n",
                "ALTER TABLE [dbo].[Recenzja]  WITH CHECK ADD  CONSTRAINT [FK_Recenzja_PracaDyplomowa] FOREIGN KEY([ID_Praca])\n",
                "REFERENCES [dbo].[PracaDyplomowa] ([ID_Praca])\n",
                "GO\n",
                "ALTER TABLE [dbo].[Recenzja] CHECK CONSTRAINT [FK_Recenzja_PracaDyplomowa]\n",
                "GO\n",
                "ALTER TABLE [dbo].[Recenzja]  WITH CHECK ADD  CONSTRAINT [FK_Recenzja_Pracownik] FOREIGN KEY([ID_Oceniajacy])\n",
                "REFERENCES [dbo].[PracownikNaukowy] ([ID_PracownikNaukowy])\n",
                "GO\n",
                "ALTER TABLE [dbo].[Recenzja] CHECK CONSTRAINT [FK_Recenzja_Pracownik]\n",
                "GO\n",
                "ALTER TABLE [dbo].[SlowaKluczowe]  WITH CHECK ADD  CONSTRAINT [FK_SlowaKluczowe_PracaDyplomowa] FOREIGN KEY([ID_Praca])\n",
                "REFERENCES [dbo].[PracaDyplomowa] ([ID_Praca])\n",
                "GO\n",
                "ALTER TABLE [dbo].[SlowaKluczowe] CHECK CONSTRAINT [FK_SlowaKluczowe_PracaDyplomowa]\n",
                "GO\n",
                "ALTER TABLE [dbo].[Student]  WITH CHECK ADD  CONSTRAINT [FK_Student_Studia] FOREIGN KEY([ID_Studia])\n",
                "REFERENCES [dbo].[Studia] ([ID_Studia])\n",
                "GO\n",
                "ALTER TABLE [dbo].[Student] CHECK CONSTRAINT [FK_Student_Studia]\n",
                "GO\n",
                "USE [master]\n",
                "GO\n",
                "ALTER DATABASE [PraceDyplomowe] SET  READ_WRITE \n",
                "GO"
            ],
            "metadata": {
                "azdata_cell_guid": "0a7d574b-953d-4d9b-a921-4022d2d8d2cc"
            },
            "outputs": [
                {
                    "output_type": "display_data",
                    "data": {
                        "text/html": "Commands completed successfully."
                    },
                    "metadata": {}
                },
                {
                    "output_type": "display_data",
                    "data": {
                        "text/html": "Commands completed successfully."
                    },
                    "metadata": {}
                },
                {
                    "output_type": "display_data",
                    "data": {
                        "text/html": "Commands completed successfully."
                    },
                    "metadata": {}
                },
                {
                    "output_type": "display_data",
                    "data": {
                        "text/html": "Commands completed successfully."
                    },
                    "metadata": {}
                },
                {
                    "output_type": "display_data",
                    "data": {
                        "text/html": "Commands completed successfully."
                    },
                    "metadata": {}
                },
                {
                    "output_type": "display_data",
                    "data": {
                        "text/html": "Commands completed successfully."
                    },
                    "metadata": {}
                },
                {
                    "output_type": "display_data",
                    "data": {
                        "text/html": "Commands completed successfully."
                    },
                    "metadata": {}
                },
                {
                    "output_type": "display_data",
                    "data": {
                        "text/html": "Commands completed successfully."
                    },
                    "metadata": {}
                },
                {
                    "output_type": "display_data",
                    "data": {
                        "text/html": "Commands completed successfully."
                    },
                    "metadata": {}
                },
                {
                    "output_type": "display_data",
                    "data": {
                        "text/html": "Commands completed successfully."
                    },
                    "metadata": {}
                },
                {
                    "output_type": "display_data",
                    "data": {
                        "text/html": "Commands completed successfully."
                    },
                    "metadata": {}
                },
                {
                    "output_type": "display_data",
                    "data": {
                        "text/html": "Commands completed successfully."
                    },
                    "metadata": {}
                },
                {
                    "output_type": "display_data",
                    "data": {
                        "text/html": "Commands completed successfully."
                    },
                    "metadata": {}
                },
                {
                    "output_type": "display_data",
                    "data": {
                        "text/html": "Commands completed successfully."
                    },
                    "metadata": {}
                },
                {
                    "output_type": "display_data",
                    "data": {
                        "text/html": "Commands completed successfully."
                    },
                    "metadata": {}
                },
                {
                    "output_type": "display_data",
                    "data": {
                        "text/html": "Commands completed successfully."
                    },
                    "metadata": {}
                },
                {
                    "output_type": "display_data",
                    "data": {
                        "text/html": "Commands completed successfully."
                    },
                    "metadata": {}
                },
                {
                    "output_type": "display_data",
                    "data": {
                        "text/html": "Commands completed successfully."
                    },
                    "metadata": {}
                },
                {
                    "output_type": "display_data",
                    "data": {
                        "text/html": "Commands completed successfully."
                    },
                    "metadata": {}
                },
                {
                    "output_type": "display_data",
                    "data": {
                        "text/html": "Commands completed successfully."
                    },
                    "metadata": {}
                },
                {
                    "output_type": "display_data",
                    "data": {
                        "text/html": "Commands completed successfully."
                    },
                    "metadata": {}
                },
                {
                    "output_type": "display_data",
                    "data": {
                        "text/html": "Total execution time: 00:00:00.220"
                    },
                    "metadata": {}
                }
            ],
            "execution_count": 571
        },
        {
            "cell_type": "code",
            "source": [
                "USE [PraceDyplomowe]\n",
                "GO\n",
                "-- Testowe dane\n",
                "INSERT INTO Studia(Kierunek, Wydzial)\n",
                "VALUES\n",
                "    ('Informatyka Stosowana', 'Elektryczny'),\n",
                "    ('Elektronika i Telekomunikacja', 'Informatyki Elektroniki i Telekomunikacji')\n",
                "\n",
                "\n",
                "INSERT INTO Student(ID_Student, ID_Studia, Email, Telefon, Imie, Nazwisko)\n",
                "VALUES\n",
                "    (1, 1, 'pierwszy@student@email.com', '123456789', 'Bartosz', 'Stafiej'),\n",
                "    (2, 2, 'drugi@student@email.com', '987654321', 'Jan', 'Kowalski')\n",
                "\n",
                "\n",
                "INSERT INTO EtapStudiow(EtapStudiow)\n",
                "VALUES\n",
                "    ('inzynierskie'),\n",
                "    ('magisterskie'),\n",
                "    ('doktoranckie')\n",
                "\n",
                "\n",
                "INSERT INTO PracownikNaukowy(ID_PracownikNaukowy, StopienNaukowy, Imie, Nazwisko, Email)\n",
                "VALUES\n",
                "    (1, 'magister', 'Urszula', 'Nowak', 'urszula.nowak@edu.pl'),\n",
                "    (2, 'doktor', 'Jaroslaw', 'Ktos', 'jaroslaw.ktos@edu.pl')\n",
                "\n",
                "\n",
                "INSERT INTO PracaDyplomowa(ID_Praca, ID_EtapStudiow, ID_Opiekun, Tytul, Temat, DataZlozenia)\n",
                "VALUES\n",
                "    (2, 3, 2, 'tytul2', 'temat2', '2021-02-24'),\n",
                "    (1, 1, 1, 'tytul1', 'temat1', '2019-04-02')\n",
                "\n",
                "\n",
                "INSERT INTO Obrona(ID_Obrona, ID_Praca, ID_Przewodniczacy, ID_Autor, Data, OcenaKoncowa, Lokalizacja)\n",
                "VALUES\n",
                "    (1, 1, 1, 1, '2021-02-02', 5, 'Krakow'),\n",
                "    (2, 2, 2, 2, '2019-04-04', 4, 'Warszawa')\n",
                "\n",
                "\n",
                "INSERT INTO Recenzja(ID_Recenzja, ID_Praca, ID_Oceniajacy, Ocena, Komentarz, DataWystawienia)\n",
                "VALUES\n",
                "    (1, 1, 1, 5, 'Fajna', '2021-03-01'),\n",
                "    (2, 2, 2, 4, 'Srednia', '2019-04-12')\n",
                "\n",
                "INSERT INTO SlowaKluczowe(SlowoKluczowe, ID_Praca)\n",
                "VALUES\n",
                "    ('1', 1),\n",
                "    ('2', 2)"
            ],
            "metadata": {
                "azdata_cell_guid": "388b5e7e-6c40-4c82-859d-db2e9c59d09f"
            },
            "outputs": [
                {
                    "output_type": "display_data",
                    "data": {
                        "text/html": "Commands completed successfully."
                    },
                    "metadata": {}
                },
                {
                    "output_type": "display_data",
                    "data": {
                        "text/html": "(2 rows affected)"
                    },
                    "metadata": {}
                },
                {
                    "output_type": "display_data",
                    "data": {
                        "text/html": "(2 rows affected)"
                    },
                    "metadata": {}
                },
                {
                    "output_type": "display_data",
                    "data": {
                        "text/html": "(3 rows affected)"
                    },
                    "metadata": {}
                },
                {
                    "output_type": "display_data",
                    "data": {
                        "text/html": "(2 rows affected)"
                    },
                    "metadata": {}
                },
                {
                    "output_type": "display_data",
                    "data": {
                        "text/html": "(2 rows affected)"
                    },
                    "metadata": {}
                },
                {
                    "output_type": "display_data",
                    "data": {
                        "text/html": "(2 rows affected)"
                    },
                    "metadata": {}
                },
                {
                    "output_type": "display_data",
                    "data": {
                        "text/html": "(2 rows affected)"
                    },
                    "metadata": {}
                },
                {
                    "output_type": "display_data",
                    "data": {
                        "text/html": "(2 rows affected)"
                    },
                    "metadata": {}
                },
                {
                    "output_type": "display_data",
                    "data": {
                        "text/html": "Total execution time: 00:00:00.172"
                    },
                    "metadata": {}
                }
            ],
            "execution_count": 572
        },
        {
            "cell_type": "code",
            "source": [
                "-- Uzyskanie informacji (imię, nazwisko, nr indeksu) na temat wszystkich studentów uporządkowanych w kolejności alfabetycznej nazwiska\n",
                "SELECT Student.Imie, student.Nazwisko, Student.ID_Student\n",
                "FROM Student\n",
                "ORDER BY Nazwisko\n",
                "\n",
                "-- Informacje na temat wszystkich pracowników (tytuł, imi ę, nazwisko, email) uporządkowane w kolejności alfabetycznej nazwiska\n",
                "SELECT StopienNaukowy, Imie, Nazwisko, Email\n",
                "FROM PracownikNaukowy\n",
                "ORDER BY Nazwisko\n",
                "\n",
                "-- Uzyskanie informacji o wszystkich pracach uporządkowanych według oceny końcowej i daty obrony\n",
                " SELECT DISTINCT\n",
                "\t   PracaDyplomowa.ID_Praca,\n",
                "\t   PracaDyplomowa.DataZlozenia,   \n",
                "\t   PracaDyplomowa.Temat,\n",
                "       PracaDyplomowa.Tytul,\n",
                "\t   Recenzja.Ocena,\n",
                "\t   Recenzja.DataWystawienia,\n",
                "\t   Recenzja.Komentarz,\n",
                "\t   Obrona.OcenaKoncowa,\n",
                "\t   Obrona.Data\n",
                "\n",
                "FROM PracaDyplomowa\n",
                "LEFT JOIN Obrona ON PracaDyplomowa.ID_Praca=Obrona.ID_Praca\n",
                "LEFT JOIN Recenzja ON PracaDyplomowa.ID_Praca=Recenzja.ID_Praca\n",
                "ORDER BY Obrona.OcenaKoncowa, Obrona.Data\n",
                "\n",
                "-- Uzyskanie informacji o wszystkich pracach prowadzonych na danym, podanym z nazwy, rodzaju studiów\n",
                " SELECT\n",
                "\t\tPracaDyplomowa.ID_Praca,\n",
                "\t\tPracaDyplomowa.DataZlozenia,   \n",
                "\t\tPracaDyplomowa.Temat,\n",
                "        PracaDyplomowa.Tytul,\n",
                "\t\tEtapStudiow.EtapStudiow\n",
                "FROM PracaDyplomowa\n",
                "LEFT JOIN EtapStudiow ON PracaDyplomowa.ID_EtapStudiow=EtapStudiow.ID_Etap\n",
                "WHERE EtapStudiow.EtapStudiow='inzynierskie'\n",
                "\n",
                "-- Uzyskanie listy wszystkich prac z informacją o jej autorach\n",
                "SELECT \n",
                "       PracaDyplomowa.ID_Praca,  \n",
                "\t   PracaDyplomowa.Temat,\n",
                "       PracaDyplomowa.Tytul,\n",
                "\t   Obrona.ID_Autor,\n",
                "\t   Student.Imie,\n",
                "\t   Student.Nazwisko,\n",
                "\t   Student.Telefon,\n",
                "\t   Student.Email\n",
                "FROM PracaDyplomowa\n",
                "LEFT JOIN Obrona ON PracaDyplomowa.ID_Praca=Obrona.ID_Praca\n",
                "JOIN Student ON Obrona.ID_Autor=Student.ID_Student\n",
                "\n",
                "-- Wyszukiwanie prac związanych z daną tematyką (słowa kluczowe)\n",
                "SELECT \n",
                "    PracaDyplomowa.ID_Praca,\n",
                "    PracaDyplomowa.Temat,\n",
                "    PracaDyplomowa.Tytul\n",
                "FROM PracaDyplomowa\n",
                "LEFT JOIN SlowaKluczowe ON PracaDyplomowa.ID_Praca = SlowaKluczowe.ID_Praca\n",
                "WHERE SlowaKluczowe.SlowoKluczowe = '1'\n",
                "\n",
                "-- Odnalezienie prac prowadzonych przez określonego promotora\n",
                "SELECT\n",
                "    PracaDyplomowa.ID_Praca,  \n",
                "    PracaDyplomowa.Temat,\n",
                "    PracaDyplomowa.Tytul\n",
                "FROM PracaDyplomowa\n",
                "WHERE PracaDyplomowa.ID_Opiekun = 2\n",
                "\n",
                "-- lub inaczej przy podaniu imienia i nazwiska\n",
                "\n",
                "SELECT\n",
                "    PracaDyplomowa.ID_Praca,  \n",
                "    PracaDyplomowa.Temat,\n",
                "    PracaDyplomowa.Tytul,\n",
                "    PracownikNaukowy.Imie,\n",
                "    PracownikNaukowy.Nazwisko\n",
                "FROM PracaDyplomowa\n",
                "LEFT JOIN PracownikNaukowy ON PracaDyplomowa.ID_Opiekun = PracownikNaukowy.ID_PracownikNaukowy\n",
                "WHERE PracownikNaukowy.Imie = 'Urszula'\n",
                "AND PracownikNaukowy.Nazwisko = 'Nowak'\n",
                "\n",
                "-- Wyświetlenie informacji o pracy danego studenta, podany index studenta oraz etap studiow\n",
                "SELECT \n",
                "    Student.ID_Student,\n",
                "    EtapStudiow.EtapStudiow,\n",
                "    PracaDyplomowa.ID_Praca,  \n",
                "    PracaDyplomowa.Temat,\n",
                "    PracaDyplomowa.Tytul\n",
                "FROM Student\n",
                "LEFT JOIN Obrona ON Student.ID_Student = Obrona.ID_Autor\n",
                "LEFT JOIN PracaDyplomowa ON OBRONA.ID_Praca = PracaDyplomowa.ID_Praca\n",
                "LEFT JOIN EtapStudiow ON Student.ID_Student = EtapStudiow.ID_Etap\n",
                "WHERE EtapStudiow.EtapStudiow='inzynierskie'\n",
                "AND Student.ID_Student = 1\n",
                "\n",
                ""
            ],
            "metadata": {
                "azdata_cell_guid": "33347c8a-06fe-4457-b01f-9868bb7610cd",
                "tags": []
            },
            "outputs": [
                {
                    "output_type": "display_data",
                    "data": {
                        "text/html": "(2 rows affected)"
                    },
                    "metadata": {}
                },
                {
                    "output_type": "display_data",
                    "data": {
                        "text/html": "(2 rows affected)"
                    },
                    "metadata": {}
                },
                {
                    "output_type": "display_data",
                    "data": {
                        "text/html": "(2 rows affected)"
                    },
                    "metadata": {}
                },
                {
                    "output_type": "display_data",
                    "data": {
                        "text/html": "(1 row affected)"
                    },
                    "metadata": {}
                },
                {
                    "output_type": "display_data",
                    "data": {
                        "text/html": "(2 rows affected)"
                    },
                    "metadata": {}
                },
                {
                    "output_type": "display_data",
                    "data": {
                        "text/html": "(1 row affected)"
                    },
                    "metadata": {}
                },
                {
                    "output_type": "display_data",
                    "data": {
                        "text/html": "(1 row affected)"
                    },
                    "metadata": {}
                },
                {
                    "output_type": "display_data",
                    "data": {
                        "text/html": "(1 row affected)"
                    },
                    "metadata": {}
                },
                {
                    "output_type": "display_data",
                    "data": {
                        "text/html": "(1 row affected)"
                    },
                    "metadata": {}
                },
                {
                    "output_type": "display_data",
                    "data": {
                        "text/html": "Total execution time: 00:00:00.377"
                    },
                    "metadata": {}
                },
                {
                    "output_type": "execute_result",
                    "metadata": {},
                    "execution_count": 573,
                    "data": {
                        "application/vnd.dataresource+json": {
                            "schema": {
                                "fields": [
                                    {
                                        "name": "Imie"
                                    },
                                    {
                                        "name": "Nazwisko"
                                    },
                                    {
                                        "name": "ID_Student"
                                    }
                                ]
                            },
                            "data": [
                                {
                                    "0": "Jan",
                                    "1": "Kowalski",
                                    "2": "2"
                                },
                                {
                                    "0": "Bartosz",
                                    "1": "Stafiej",
                                    "2": "1"
                                }
                            ]
                        },
                        "text/html": [
                            "<table>",
                            "<tr><th>Imie</th><th>Nazwisko</th><th>ID_Student</th></tr>",
                            "<tr><td>Jan</td><td>Kowalski</td><td>2</td></tr>",
                            "<tr><td>Bartosz</td><td>Stafiej</td><td>1</td></tr>",
                            "</table>"
                        ]
                    }
                },
                {
                    "output_type": "execute_result",
                    "metadata": {},
                    "execution_count": 573,
                    "data": {
                        "application/vnd.dataresource+json": {
                            "schema": {
                                "fields": [
                                    {
                                        "name": "StopienNaukowy"
                                    },
                                    {
                                        "name": "Imie"
                                    },
                                    {
                                        "name": "Nazwisko"
                                    },
                                    {
                                        "name": "Email"
                                    }
                                ]
                            },
                            "data": [
                                {
                                    "0": "doktor",
                                    "1": "Jaroslaw",
                                    "2": "Ktos",
                                    "3": "jaroslaw.ktos@edu.pl"
                                },
                                {
                                    "0": "magister",
                                    "1": "Urszula",
                                    "2": "Nowak",
                                    "3": "urszula.nowak@edu.pl"
                                }
                            ]
                        },
                        "text/html": [
                            "<table>",
                            "<tr><th>StopienNaukowy</th><th>Imie</th><th>Nazwisko</th><th>Email</th></tr>",
                            "<tr><td>doktor</td><td>Jaroslaw</td><td>Ktos</td><td>jaroslaw.ktos@edu.pl</td></tr>",
                            "<tr><td>magister</td><td>Urszula</td><td>Nowak</td><td>urszula.nowak@edu.pl</td></tr>",
                            "</table>"
                        ]
                    }
                },
                {
                    "output_type": "execute_result",
                    "metadata": {},
                    "execution_count": 573,
                    "data": {
                        "application/vnd.dataresource+json": {
                            "schema": {
                                "fields": [
                                    {
                                        "name": "ID_Praca"
                                    },
                                    {
                                        "name": "DataZlozenia"
                                    },
                                    {
                                        "name": "Temat"
                                    },
                                    {
                                        "name": "Tytul"
                                    },
                                    {
                                        "name": "Ocena"
                                    },
                                    {
                                        "name": "DataWystawienia"
                                    },
                                    {
                                        "name": "Komentarz"
                                    },
                                    {
                                        "name": "OcenaKoncowa"
                                    },
                                    {
                                        "name": "Data"
                                    }
                                ]
                            },
                            "data": [
                                {
                                    "0": "2",
                                    "1": "2021-02-24 00:00:00.000",
                                    "2": "temat2",
                                    "3": "tytul2",
                                    "4": "4",
                                    "5": "2019-04-12",
                                    "6": "Srednia",
                                    "7": "4",
                                    "8": "2019-04-04 00:00:00.000"
                                },
                                {
                                    "0": "1",
                                    "1": "2019-04-02 00:00:00.000",
                                    "2": "temat1",
                                    "3": "tytul1",
                                    "4": "5",
                                    "5": "2021-03-01",
                                    "6": "Fajna",
                                    "7": "5",
                                    "8": "2021-02-02 00:00:00.000"
                                }
                            ]
                        },
                        "text/html": [
                            "<table>",
                            "<tr><th>ID_Praca</th><th>DataZlozenia</th><th>Temat</th><th>Tytul</th><th>Ocena</th><th>DataWystawienia</th><th>Komentarz</th><th>OcenaKoncowa</th><th>Data</th></tr>",
                            "<tr><td>2</td><td>2021-02-24 00:00:00.000</td><td>temat2</td><td>tytul2</td><td>4</td><td>2019-04-12</td><td>Srednia</td><td>4</td><td>2019-04-04 00:00:00.000</td></tr>",
                            "<tr><td>1</td><td>2019-04-02 00:00:00.000</td><td>temat1</td><td>tytul1</td><td>5</td><td>2021-03-01</td><td>Fajna</td><td>5</td><td>2021-02-02 00:00:00.000</td></tr>",
                            "</table>"
                        ]
                    }
                },
                {
                    "output_type": "execute_result",
                    "metadata": {},
                    "execution_count": 573,
                    "data": {
                        "application/vnd.dataresource+json": {
                            "schema": {
                                "fields": [
                                    {
                                        "name": "ID_Praca"
                                    },
                                    {
                                        "name": "DataZlozenia"
                                    },
                                    {
                                        "name": "Temat"
                                    },
                                    {
                                        "name": "Tytul"
                                    },
                                    {
                                        "name": "EtapStudiow"
                                    }
                                ]
                            },
                            "data": [
                                {
                                    "0": "1",
                                    "1": "2019-04-02 00:00:00.000",
                                    "2": "temat1",
                                    "3": "tytul1",
                                    "4": "inzynierskie"
                                }
                            ]
                        },
                        "text/html": [
                            "<table>",
                            "<tr><th>ID_Praca</th><th>DataZlozenia</th><th>Temat</th><th>Tytul</th><th>EtapStudiow</th></tr>",
                            "<tr><td>1</td><td>2019-04-02 00:00:00.000</td><td>temat1</td><td>tytul1</td><td>inzynierskie</td></tr>",
                            "</table>"
                        ]
                    }
                },
                {
                    "output_type": "execute_result",
                    "metadata": {},
                    "execution_count": 573,
                    "data": {
                        "application/vnd.dataresource+json": {
                            "schema": {
                                "fields": [
                                    {
                                        "name": "ID_Praca"
                                    },
                                    {
                                        "name": "Temat"
                                    },
                                    {
                                        "name": "Tytul"
                                    },
                                    {
                                        "name": "ID_Autor"
                                    },
                                    {
                                        "name": "Imie"
                                    },
                                    {
                                        "name": "Nazwisko"
                                    },
                                    {
                                        "name": "Telefon"
                                    },
                                    {
                                        "name": "Email"
                                    }
                                ]
                            },
                            "data": [
                                {
                                    "0": "1",
                                    "1": "temat1",
                                    "2": "tytul1",
                                    "3": "1",
                                    "4": "Bartosz",
                                    "5": "Stafiej",
                                    "6": "123456789",
                                    "7": "pierwszy@student@email.com"
                                },
                                {
                                    "0": "2",
                                    "1": "temat2",
                                    "2": "tytul2",
                                    "3": "2",
                                    "4": "Jan",
                                    "5": "Kowalski",
                                    "6": "987654321",
                                    "7": "drugi@student@email.com"
                                }
                            ]
                        },
                        "text/html": [
                            "<table>",
                            "<tr><th>ID_Praca</th><th>Temat</th><th>Tytul</th><th>ID_Autor</th><th>Imie</th><th>Nazwisko</th><th>Telefon</th><th>Email</th></tr>",
                            "<tr><td>1</td><td>temat1</td><td>tytul1</td><td>1</td><td>Bartosz</td><td>Stafiej</td><td>123456789</td><td>pierwszy@student@email.com</td></tr>",
                            "<tr><td>2</td><td>temat2</td><td>tytul2</td><td>2</td><td>Jan</td><td>Kowalski</td><td>987654321</td><td>drugi@student@email.com</td></tr>",
                            "</table>"
                        ]
                    }
                },
                {
                    "output_type": "execute_result",
                    "metadata": {},
                    "execution_count": 573,
                    "data": {
                        "application/vnd.dataresource+json": {
                            "schema": {
                                "fields": [
                                    {
                                        "name": "ID_Praca"
                                    },
                                    {
                                        "name": "Temat"
                                    },
                                    {
                                        "name": "Tytul"
                                    }
                                ]
                            },
                            "data": [
                                {
                                    "0": "1",
                                    "1": "temat1",
                                    "2": "tytul1"
                                }
                            ]
                        },
                        "text/html": [
                            "<table>",
                            "<tr><th>ID_Praca</th><th>Temat</th><th>Tytul</th></tr>",
                            "<tr><td>1</td><td>temat1</td><td>tytul1</td></tr>",
                            "</table>"
                        ]
                    }
                },
                {
                    "output_type": "execute_result",
                    "metadata": {},
                    "execution_count": 573,
                    "data": {
                        "application/vnd.dataresource+json": {
                            "schema": {
                                "fields": [
                                    {
                                        "name": "ID_Praca"
                                    },
                                    {
                                        "name": "Temat"
                                    },
                                    {
                                        "name": "Tytul"
                                    }
                                ]
                            },
                            "data": [
                                {
                                    "0": "2",
                                    "1": "temat2",
                                    "2": "tytul2"
                                }
                            ]
                        },
                        "text/html": [
                            "<table>",
                            "<tr><th>ID_Praca</th><th>Temat</th><th>Tytul</th></tr>",
                            "<tr><td>2</td><td>temat2</td><td>tytul2</td></tr>",
                            "</table>"
                        ]
                    }
                },
                {
                    "output_type": "execute_result",
                    "metadata": {},
                    "execution_count": 573,
                    "data": {
                        "application/vnd.dataresource+json": {
                            "schema": {
                                "fields": [
                                    {
                                        "name": "ID_Praca"
                                    },
                                    {
                                        "name": "Temat"
                                    },
                                    {
                                        "name": "Tytul"
                                    },
                                    {
                                        "name": "Imie"
                                    },
                                    {
                                        "name": "Nazwisko"
                                    }
                                ]
                            },
                            "data": [
                                {
                                    "0": "1",
                                    "1": "temat1",
                                    "2": "tytul1",
                                    "3": "Urszula",
                                    "4": "Nowak"
                                }
                            ]
                        },
                        "text/html": [
                            "<table>",
                            "<tr><th>ID_Praca</th><th>Temat</th><th>Tytul</th><th>Imie</th><th>Nazwisko</th></tr>",
                            "<tr><td>1</td><td>temat1</td><td>tytul1</td><td>Urszula</td><td>Nowak</td></tr>",
                            "</table>"
                        ]
                    }
                },
                {
                    "output_type": "execute_result",
                    "metadata": {},
                    "execution_count": 573,
                    "data": {
                        "application/vnd.dataresource+json": {
                            "schema": {
                                "fields": [
                                    {
                                        "name": "ID_Student"
                                    },
                                    {
                                        "name": "EtapStudiow"
                                    },
                                    {
                                        "name": "ID_Praca"
                                    },
                                    {
                                        "name": "Temat"
                                    },
                                    {
                                        "name": "Tytul"
                                    }
                                ]
                            },
                            "data": [
                                {
                                    "0": "1",
                                    "1": "inzynierskie",
                                    "2": "1",
                                    "3": "temat1",
                                    "4": "tytul1"
                                }
                            ]
                        },
                        "text/html": [
                            "<table>",
                            "<tr><th>ID_Student</th><th>EtapStudiow</th><th>ID_Praca</th><th>Temat</th><th>Tytul</th></tr>",
                            "<tr><td>1</td><td>inzynierskie</td><td>1</td><td>temat1</td><td>tytul1</td></tr>",
                            "</table>"
                        ]
                    }
                }
            ],
            "execution_count": 573
        }
    ]
}